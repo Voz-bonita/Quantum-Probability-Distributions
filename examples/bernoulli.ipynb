{
 "cells": [
  {
   "cell_type": "code",
   "execution_count": 4,
   "metadata": {},
   "outputs": [
    {
     "name": "stdout",
     "output_type": "stream",
     "text": [
      "P(X=0|p=0.8) = 0.2000\n",
      "P(X=1|p=0.8) = 0.8000\n",
      "\n",
      "P(X=0|p=0.75) = 0.2500\n",
      "P(X=1|p=0.75) = 0.7500\n",
      "\n",
      "P(X=0|p=0.214) = 0.7860\n",
      "P(X=1|p=0.214) = 0.2140\n"
     ]
    }
   ],
   "source": [
    "import qiskit.quantum_info as qi\n",
    "import numpy as np\n",
    "\n",
    "\n",
    "ZERO_STATE = qi.Statevector(np.array([1.0, 0.0]))\n",
    "\n",
    "def zero_state_to_probability(p: float):\n",
    "    q = 1-p\n",
    "    sqrt_p = np.sqrt(p)\n",
    "    sqrt_q = np.sqrt(q)\n",
    "    return qi.Operator([\n",
    "        [sqrt_q, -sqrt_p],\n",
    "        [sqrt_p, sqrt_q]\n",
    "    ])\n",
    "\n",
    "def show_case_probabilities(p: float):\n",
    "    bernoulli_trial = ZERO_STATE.evolve(zero_state_to_probability(p))\n",
    "\n",
    "    p0 = f\"P(X=0|p={p}) = {np.abs(bernoulli_trial[0])**2:.4f}\"\n",
    "    p1 = f\"P(X=1|p={p}) = {np.abs(bernoulli_trial[1])**2:.4f}\"\n",
    "    print(p0 + \"\\n\" + p1)\n",
    "\n",
    "show_case_probabilities(0.8)\n",
    "print()\n",
    "show_case_probabilities(0.75)\n",
    "print()\n",
    "show_case_probabilities(0.214)"
   ]
  }
 ],
 "metadata": {
  "kernelspec": {
   "display_name": "venv",
   "language": "python",
   "name": "python3"
  },
  "language_info": {
   "codemirror_mode": {
    "name": "ipython",
    "version": 3
   },
   "file_extension": ".py",
   "mimetype": "text/x-python",
   "name": "python",
   "nbconvert_exporter": "python",
   "pygments_lexer": "ipython3",
   "version": "3.11.3"
  }
 },
 "nbformat": 4,
 "nbformat_minor": 2
}
